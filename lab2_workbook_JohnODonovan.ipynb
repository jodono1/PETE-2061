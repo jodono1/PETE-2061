{
 "cells": [
  {
   "cell_type": "markdown",
   "metadata": {
    "colab_type": "text",
    "id": "view-in-github"
   },
   "source": [
    "<a href=\"https://colab.research.google.com/github/lsuhpchelp/lbrnloniworkshop2019/blob/master/day1_python/intro_python.ipynb\" target=\"_parent\"><img src=\"https://colab.research.google.com/assets/colab-badge.svg\" alt=\"Open In Colab\"/></a>"
   ]
  },
  {
   "cell_type": "markdown",
   "metadata": {
    "colab_type": "text",
    "id": "u1YDPNtbdHDj"
   },
   "source": [
    "\n",
    " #  Python Data Types\n",
    "\n",
    "## PETE 2061 Lab 2 Workbook \n",
    "\n",
    "## THIS IS DUE BY 10:20 AM TODAY\n",
    "\n",
    "<a id='top'></a>"
   ]
  },
  {
   "cell_type": "markdown",
   "metadata": {
    "colab_type": "text",
    "id": "krWd44XodHDp"
   },
   "source": [
    "<a id='variables'></a>\n",
    "## Decline Curve Analysis\n",
    "Wells A, B, and C flow with an initial flow rate ($q_i$) of 5,000 bopd (barrels of oil per day), and have a continuous initial decline rate ($D_i$) of 20% per year. Well A declines exponentially, while well B declines hyperbolically, with a b-exponent of 0.5, and well C declines harmonically (this means that b = 1). <br><br>"
   ]
  },
  {
   "cell_type": "markdown",
   "metadata": {},
   "source": [
    "Step 1. Import the math library (so that the exponential function is available). <br>"
   ]
  },
  {
   "cell_type": "code",
   "execution_count": 2,
   "metadata": {},
   "outputs": [],
   "source": [
    "import math"
   ]
  },
  {
   "cell_type": "markdown",
   "metadata": {},
   "source": [
    "Step 2. Create variables named q_i, D_i and b, and assign them to the given initial flow rate, initial decline rate, and hyperbolic b-exponent of 0.5, respectively. <br>"
   ]
  },
  {
   "cell_type": "code",
   "execution_count": 3,
   "metadata": {},
   "outputs": [],
   "source": [
    "q_i, D_i, b = 5000, .20, math.exp(0.5)"
   ]
  },
  {
   "cell_type": "markdown",
   "metadata": {},
   "source": [
    "Step 3. Using the list() and range() functions, create a list named t, and use it store time in years; starting from 0 to 3 years, and in increments of 1 year. The first item in list t will be 0, and the last item will be 3.<br>"
   ]
  },
  {
   "cell_type": "code",
   "execution_count": 4,
   "metadata": {},
   "outputs": [
    {
     "name": "stdout",
     "output_type": "stream",
     "text": [
      "[0, 1, 2, 3]\n"
     ]
    },
    {
     "data": {
      "text/plain": [
       "range"
      ]
     },
     "execution_count": 4,
     "metadata": {},
     "output_type": "execute_result"
    }
   ],
   "source": [
    "intRange = range(0,4,1)  #Format of range() is range(start, stop, increment). 12 is not included in range\n",
    "t = list(intRange)  \n",
    "print(t)\n",
    "type(intRange)"
   ]
  },
  {
   "cell_type": "markdown",
   "metadata": {},
   "source": [
    "Step 4. Create a list named q_A, and fill it with four zeros. <br>"
   ]
  },
  {
   "cell_type": "code",
   "execution_count": 5,
   "metadata": {},
   "outputs": [
    {
     "name": "stdout",
     "output_type": "stream",
     "text": [
      "[0, 0, 0, 0]\n"
     ]
    }
   ],
   "source": [
    "q_AList = [0,0,0,0]\n",
    "print(q_AList)"
   ]
  },
  {
   "cell_type": "markdown",
   "metadata": {},
   "source": [
    "Step 5. Also create lists named q_B and q_C and let them store four zeros each. Note that q_A, q_B and q_C correspond to the flow rates of wells A, B and C, respectively. <br>"
   ]
  },
  {
   "cell_type": "code",
   "execution_count": 6,
   "metadata": {},
   "outputs": [],
   "source": [
    "q_BList = [0,0,0,0]\n",
    "q_CList = [0,0,0,0]"
   ]
  },
  {
   "cell_type": "markdown",
   "metadata": {},
   "source": [
    "Step 6. Using the appropriate equation for well A, \n",
    "    (a) compute the oil rate at a time of 0 years, and store it in the first index of the list, q_A. Double-check that your result for this is equal to the initial flow rate.\n",
    "    (b) compute the oil rate after 1 year and store it in the second index of the list, q_A.\n",
    "    (c) compute the oil rate after 2 years and store it in the third index of the list, q_A.\n",
    "    (d) compute the oil rate after 3 years and store it in the fourth index of the list, q_A. <br>"
   ]
  },
  {
   "cell_type": "code",
   "execution_count": 7,
   "metadata": {},
   "outputs": [
    {
     "name": "stdout",
     "output_type": "stream",
     "text": [
      "[-0.0, 0, 0, 0]\n",
      "[-0.0, -1648.7212707001283, 0, 0]\n",
      "[-0.0, -1648.7212707001283, -3297.4425414002567, 0]\n",
      "[-0.0, -1648.7212707001283, -3297.4425414002567, -4946.163812100385]\n"
     ]
    }
   ],
   "source": [
    "#part A\n",
    "q_AList[0] = q_i*math.exp(0.5)*(-D_i*0)\n",
    "print(q_AList)\n",
    "#part B\n",
    "q_AList[1] = q_i*math.exp(0.5)*(-D_i*1)\n",
    "print(q_AList)\n",
    "#part C\n",
    "q_AList[2] = q_i*math.exp(0.5)*(-D_i*2)\n",
    "print(q_AList)\n",
    "#part D\n",
    "q_AList[3] = q_i*math.exp(0.5)*(-D_i*3)\n",
    "print(q_AList)"
   ]
  },
  {
   "cell_type": "markdown",
   "metadata": {},
   "source": [
    "Step 7. Print out list q_A. <br>"
   ]
  },
  {
   "cell_type": "code",
   "execution_count": 8,
   "metadata": {},
   "outputs": [
    {
     "name": "stdout",
     "output_type": "stream",
     "text": [
      "[-0.0, -1648.7212707001283, -3297.4425414002567, -4946.163812100385]\n"
     ]
    }
   ],
   "source": [
    "print(q_AList)"
   ]
  },
  {
   "cell_type": "markdown",
   "metadata": {},
   "source": [
    "Step 8. Using the appropriate equation for wells B and C, compute and store the corresponding four rates in q_B and q_C. This is similar to the steps in 6 (a) through (d), but with the hyperbolic and harmonic decline curve equations, respectively. <br>"
   ]
  },
  {
   "cell_type": "code",
   "execution_count": 9,
   "metadata": {},
   "outputs": [
    {
     "name": "stdout",
     "output_type": "stream",
     "text": [
      "[5000.0, 4206.305805203772, 3677.4677919423684, 3294.6404657675853]\n"
     ]
    }
   ],
   "source": [
    "# Hyperbolic equation = q_i/((1.0+b*D_i*t)**(1.0/b))\n",
    "# Harmonic equation = q_i/((1.0+D_i*t) q_C[0] = q_i/((1.0+D_i*0)\n",
    "\n",
    "q_BList[0] = q_i/((1.0+b*D_i*0)**(1.0/b))\n",
    "q_BList[1] = q_i/((1.0+b*D_i*1)**(1.0/b))\n",
    "q_BList[2] = q_i/((1.0+b*D_i*2)**(1.0/b))\n",
    "q_BList[3] = q_i/((1.0+b*D_i*3)**(1.0/b))\n",
    "print(q_BList)\n",
    "\n",
    "q_CList[0] = q_i/((1.0+D_i*0))\n",
    "q_CList[1] = q_i/((1.0+D_i*1))\n",
    "q_CList[2] = q_i/((1.0+D_i*2))\n",
    "q_CList[3] = q_i/((1.0+D_i*3))"
   ]
  },
  {
   "cell_type": "markdown",
   "metadata": {},
   "source": [
    "Step 9. Print out lists q_B and q_C <br>"
   ]
  },
  {
   "cell_type": "code",
   "execution_count": 10,
   "metadata": {},
   "outputs": [
    {
     "name": "stdout",
     "output_type": "stream",
     "text": [
      "[5000.0, 4206.305805203772, 3677.4677919423684, 3294.6404657675853]\n",
      "[5000.0, 4166.666666666667, 3571.4285714285716, 3125.0]\n"
     ]
    }
   ],
   "source": [
    "print(q_BList); print(q_CList)"
   ]
  },
  {
   "cell_type": "markdown",
   "metadata": {},
   "source": [
    "Step 10. Using all that you have learned so far, compute the corresponding cumulative production (Q_A, Q_B and Q_C) using the analytical expressions in your lecture notes. Print out the four items in each of these three lists. <br>"
   ]
  },
  {
   "cell_type": "code",
   "execution_count": 11,
   "metadata": {},
   "outputs": [
    {
     "name": "stdout",
     "output_type": "stream",
     "text": [
      "[25000.0, 33243.60635350064, 41487.21270700128, 49730.819060501926]\n",
      "[0.0, 3968.4709739811387, 6612.661040288158, 8526.797671162072]\n",
      "[0.0, 4166.666666666665, 7142.857142857142, 9375.0]\n"
     ]
    }
   ],
   "source": [
    "#Corresponding cumulative production 𝑸_𝒑 = (𝒒_𝒊−𝒒)/D_𝒊\n",
    "Q_A = [0,0,0,0]\n",
    "Q_A[0] = (q_i - q_AList[0])/D_i\n",
    "Q_A[1] = (q_i - q_AList[1])/D_i\n",
    "Q_A[2] = (q_i - q_AList[2])/D_i\n",
    "Q_A[3] = (q_i - q_AList[3])/D_i\n",
    "\n",
    "Q_B = [0,0,0,0]\n",
    "Q_B[0] = (q_i - q_BList[0])/D_i\n",
    "Q_B[1] = (q_i - q_BList[1])/D_i\n",
    "Q_B[2] = (q_i - q_BList[2])/D_i\n",
    "Q_B[3] = (q_i - q_BList[3])/D_i\n",
    "\n",
    "Q_C = [0,0,0,0]\n",
    "Q_C[0] = (q_i - q_CList[0])/D_i\n",
    "Q_C[1] = (q_i - q_CList[1])/D_i\n",
    "Q_C[2] = (q_i - q_CList[2])/D_i\n",
    "Q_C[3] = (q_i - q_CList[3])/D_i\n",
    "\n",
    "print(Q_A); print(Q_B); print(Q_C)"
   ]
  },
  {
   "cell_type": "markdown",
   "metadata": {},
   "source": [
    "Step 11. Using the Trapezoidal rule for well A, compute the volume of oil (in barrels) produced between:\n",
    "    (a) time = 0 and time = 1 year\n",
    "    (b) time = 1 and time = 2 years\n",
    "    (c) time = 2 and time = 3 years. <br>"
   ]
  },
  {
   "cell_type": "code",
   "execution_count": 12,
   "metadata": {},
   "outputs": [],
   "source": [
    "#A = .5(Q_A[0]+Q_A[1])(t)\n",
    "#part A\n",
    "AreaQ_A = [0,0,0]\n",
    "AreaQ_A[0] = .5*(Q_A[0] + Q_A[1])*(1)\n",
    "#part B\n",
    "AreaQ_A[1] = .5*(Q_A[1] + Q_A[2])*(1)\n",
    "#part c\n",
    "AreaQ_A[2] = .5*(Q_A[2] + Q_A[3])*(1)"
   ]
  },
  {
   "cell_type": "markdown",
   "metadata": {},
   "source": [
    "Step 12. Add up the three results from 11(a), (b) and (c) to obtain the cumulative production for well A after 3 years. <br>"
   ]
  },
  {
   "cell_type": "code",
   "execution_count": 13,
   "metadata": {},
   "outputs": [
    {
     "name": "stdout",
     "output_type": "stream",
     "text": [
      "112096.22859075289\n"
     ]
    }
   ],
   "source": [
    "AreaA = AreaQ_A[0] + AreaQ_A[1] + AreaQ_A[2]\n",
    "print(AreaA)\n"
   ]
  },
  {
   "cell_type": "markdown",
   "metadata": {},
   "source": [
    "Step 13. Compare the result from Step 12 (a numerical integration) to the result stored in the last item in list Q_A (an exact integration). Compute the relative error (in %) of the numerical integration. <br>"
   ]
  },
  {
   "cell_type": "code",
   "execution_count": 14,
   "metadata": {},
   "outputs": [
    {
     "name": "stdout",
     "output_type": "stream",
     "text": [
      "-1.2540595692658498 %\n"
     ]
    }
   ],
   "source": [
    "# 𝐸𝑡 = 𝑡𝑟𝑢𝑒 𝑣𝑎𝑙𝑢𝑒 − 𝑎𝑝𝑝𝑟𝑜𝑥𝑖𝑚𝑎𝑡𝑒 𝑣𝑎𝑙𝑢𝑒 \n",
    "# 𝜖𝑟𝑒𝑙 = E_t/true value\n",
    "E_t = Q_A[3] - AreaA\n",
    "E_rel = E_t / Q_A[3]\n",
    "print(f\"{E_rel} %\")\n"
   ]
  },
  {
   "cell_type": "code",
   "execution_count": null,
   "metadata": {},
   "outputs": [],
   "source": []
  }
 ],
 "metadata": {
  "colab": {
   "collapsed_sections": [
    "sYQs3O-6dHFb",
    "8sIJ4A57dHFk",
    "_73RPOcBdHFn",
    "h9s2tfPcdHFo",
    "zt4YHVYPdHGR"
   ],
   "include_colab_link": true,
   "name": "Copy of intro-python-colab.ipynb",
   "provenance": [],
   "version": "0.3.2"
  },
  "kernelspec": {
   "display_name": "Python 3",
   "language": "python",
   "name": "python3"
  },
  "language_info": {
   "codemirror_mode": {
    "name": "ipython",
    "version": 3
   },
   "file_extension": ".py",
   "mimetype": "text/x-python",
   "name": "python",
   "nbconvert_exporter": "python",
   "pygments_lexer": "ipython3",
   "version": "3.7.3"
  }
 },
 "nbformat": 4,
 "nbformat_minor": 1
}
